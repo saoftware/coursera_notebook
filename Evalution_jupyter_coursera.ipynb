{
 "cells": [
  {
   "cell_type": "code",
   "execution_count": 1,
   "metadata": {},
   "outputs": [],
   "source": [
    "# Exercice 2 - Créez une cellule markdown avec le titre du carnet"
   ]
  },
  {
   "cell_type": "markdown",
   "metadata": {},
   "source": [
    "# Titre du Carnet"
   ]
  },
  {
   "cell_type": "code",
   "execution_count": 3,
   "metadata": {},
   "outputs": [],
   "source": [
    "# Exercice 3 - Créez une cellule markdown pour une introduction"
   ]
  },
  {
   "cell_type": "markdown",
   "metadata": {},
   "source": [
    "# Introduction\n",
    "\n",
    "Bienvenue dans ce carnet Jupyter."
   ]
  },
  {
   "cell_type": "code",
   "execution_count": 5,
   "metadata": {},
   "outputs": [],
   "source": [
    "# Exercice 4 - Créez une cellule markdown pour lister les langages de la science des données"
   ]
  },
  {
   "cell_type": "markdown",
   "metadata": {},
   "source": [
    "# Langages de la Science des Données\n",
    "\n",
    "1. **Python**\n",
    "2. **R**\n",
    "3. **SQL**\n",
    "4. **Java**\n",
    "5. **Scala**\n",
    "6. **Julia** "
   ]
  },
  {
   "cell_type": "code",
   "execution_count": 7,
   "metadata": {},
   "outputs": [],
   "source": [
    "# Exercice 5 - Créez une cellule markdown pour lister les bibliothèques de science des données"
   ]
  },
  {
   "cell_type": "markdown",
   "metadata": {},
   "source": [
    "# Bibliothèques de la Science des Données\n",
    "\n",
    "1. **Pandas**\n",
    "2. **NumPy**\n",
    "3. **Matplotlib**\n",
    "4. **Seaborn**\n",
    "5. **Scikit-learn**\n",
    "6. **TensorFlow**\n",
    "7. **Keras**\n",
    "8. **PyTorch**\n",
    "9. **SciPy**\n",
    "10. **Plotly**"
   ]
  },
  {
   "cell_type": "code",
   "execution_count": 9,
   "metadata": {},
   "outputs": [],
   "source": [
    "# Exercice 6 - Créez une cellule markdown avec un tableau des outils de la science des données"
   ]
  },
  {
   "cell_type": "markdown",
   "metadata": {},
   "source": [
    "# Outils de la Science des Données\n",
    "\n",
    "Voici un tableau des principaux outils utilisés dans la science des données, classés par catégorie :\n",
    "\n",
    "| Catégorie            | Outils           |\n",
    "|----------------------|------------------|\n",
    "| **Langages**          | Python, R       |\n",
    "| **Bibliothèques**     | Pandas,  NumPy  |\n",
    "| **Visualisation**     | Matplotlib, Seaborn | \n",
    "| **Apprentissage**     | Scikit-learn, TensorFlow  |\n",
    "| **Big Data**          | Apache Hadoop, Apache Spark    |\n",
    "| **Environnements**    | Jupyter Notebook, Google Colab |"
   ]
  },
  {
   "cell_type": "code",
   "execution_count": 11,
   "metadata": {},
   "outputs": [],
   "source": [
    "# Exercice 7 - Créez une cellule markdown présentant des exemples d'expressions arithmétiques"
   ]
  },
  {
   "cell_type": "markdown",
   "metadata": {},
   "source": [
    "# Exemples d'Expressions Arithmétiques\n",
    "\n",
    "1. **Addition**\n",
    "   ```python\n",
    "   5 + 3  # Résultat : 8  \n",
    "\n",
    "2. **Soustraction**\n",
    "   ```python\n",
    "   5 - 3 # Résultat : 2\n",
    "\n",
    "3. **Multiplication**\n",
    "   ```python\n",
    "   5 * 3 # Résultat : 15\n",
    "\n",
    "4. **Division**\n",
    "   ```python\n",
    "   5 / 3 # resultat : 1.6666666666666667\n",
    "\n",
    "5. **Modulo**\n",
    "   ```python\n",
    "   5 % 3 # Résultat : 2"
   ]
  },
  {
   "cell_type": "code",
   "execution_count": 23,
   "metadata": {},
   "outputs": [
    {
     "name": "stdout",
     "output_type": "stream",
     "text": [
      "La multiplication de 5 et 3 donne : 15\n",
      "L'addition de 5 et 2 donne : 7\n"
     ]
    }
   ],
   "source": [
    "# Exercice 8 - Créez une cellule de code pour multiplier et additionner des nombres\n",
    "# Définir les nombres\n",
    "a = 5\n",
    "b = 3\n",
    "c = 2\n",
    "\n",
    "# Effectuer la multiplication\n",
    "multiplication = a * b\n",
    "print(f\"La multiplication de {a} et {b} donne : {multiplication}\")\n",
    "\n",
    "# Effectuer l'addition\n",
    "addition = a + c\n",
    "print(f\"L'addition de {a} et {c} donne : {addition}\")\n"
   ]
  },
  {
   "cell_type": "code",
   "execution_count": null,
   "metadata": {},
   "outputs": [],
   "source": [
    "# Exercice 9 - Créez une cellule de code pour convertir les minutes en heures"
   ]
  },
  {
   "cell_type": "code",
   "execution_count": 25,
   "metadata": {},
   "outputs": [
    {
     "name": "stdout",
     "output_type": "stream",
     "text": [
      "125 minutes équivalent à 2 heure(s) et 5 minute(s).\n"
     ]
    }
   ],
   "source": [
    "# Fonction pour convertir les minutes en heures\n",
    "def convertir_minutes_en_heures(minutes):\n",
    "    heures = minutes // 60  # Calcul des heures\n",
    "    minutes_restantes = minutes % 60  # Calcul des minutes restantes\n",
    "    return heures, minutes_restantes\n",
    "\n",
    "# Exemple de conversion\n",
    "minutes = 125\n",
    "heures, minutes_restantes = convertir_minutes_en_heures(minutes)\n",
    "\n",
    "# Affichage du résultat\n",
    "print(f\"{minutes} minutes équivalent à {heures} heure(s) et {minutes_restantes} minute(s).\")\n"
   ]
  },
  {
   "cell_type": "code",
   "execution_count": 27,
   "metadata": {},
   "outputs": [],
   "source": [
    "# Exercice 10 -Insérez une cellule markdown pour lister les objectifs"
   ]
  },
  {
   "cell_type": "markdown",
   "metadata": {},
   "source": [
    "# Objectifs du Projet\n",
    "\n",
    "- **Comprendre les concepts fondamentaux de la science des données**  \n",
    "\n",
    "- **Acquérir des compétences en programmation**  \n",
    "\n",
    "- **Développer des compétences en visualisation de données**  \n",
    "\n",
    "- **Collaborer et partager des résultats avec l'équipe**  "
   ]
  },
  {
   "cell_type": "code",
   "execution_count": null,
   "metadata": {},
   "outputs": [],
   "source": [
    "# Exercice 11 - Créez une cellule markdown pour indiquer le nom de l'auteur"
   ]
  },
  {
   "cell_type": "markdown",
   "metadata": {},
   "source": [
    "# Auteur\n",
    "\n",
    "Ce projet a été réalisé par **Apollinaire DABIRE**."
   ]
  },
  {
   "cell_type": "code",
   "execution_count": null,
   "metadata": {},
   "outputs": [],
   "source": []
  }
 ],
 "metadata": {
  "kernelspec": {
   "display_name": "Python 3 (ipykernel)",
   "language": "python",
   "name": "python3"
  },
  "language_info": {
   "codemirror_mode": {
    "name": "ipython",
    "version": 3
   },
   "file_extension": ".py",
   "mimetype": "text/x-python",
   "name": "python",
   "nbconvert_exporter": "python",
   "pygments_lexer": "ipython3",
   "version": "3.12.7"
  }
 },
 "nbformat": 4,
 "nbformat_minor": 4
}
