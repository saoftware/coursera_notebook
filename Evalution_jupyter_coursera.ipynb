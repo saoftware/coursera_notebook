{
 "cells": [
  {
   "cell_type": "markdown",
   "metadata": {},
   "source": [
    "# Titre du Carnet"
   ]
  },
  {
   "cell_type": "markdown",
   "metadata": {},
   "source": [
    "# Introduction\n",
    "\n",
    "Bienvenue dans ce carnet Jupyter."
   ]
  },
  {
   "cell_type": "markdown",
   "metadata": {},
   "source": [
    "# Langages de la Science des Données\n",
    "\n",
    "- **Python**\n",
    "- **R**\n",
    "- **SQL** \n",
    "- **Java** \n",
    "- **Scala** \n",
    "- **Julia** "
   ]
  },
  {
   "cell_type": "markdown",
   "metadata": {},
   "source": []
  },
  {
   "cell_type": "markdown",
   "metadata": {},
   "source": [
    "# Bibliothèques de la Science des Données\n",
    "\n",
    "- **Pandas** \n",
    "- **NumPy** \n",
    "- **Matplotlib** \n",
    "- **Seaborn** \n",
    "- **Scikit-learn** \n",
    "- **TensorFlow** \n",
    "- **Keras** \n",
    "- **PyTorch** \n",
    "- **SciPy** \n",
    "- **Plotly**"
   ]
  },
  {
   "cell_type": "markdown",
   "metadata": {},
   "source": [
    "# Outils de la Science des Données\n",
    "\n",
    "Voici un tableau des principaux outils utilisés dans la science des données, classés par catégorie :\n",
    "\n",
    "| Catégorie            | Outils           |\n",
    "|----------------------|------------------|\n",
    "| **Langages**          | Python, R       |\n",
    "| **Bibliothèques**     | Pandas,  NumPy  |\n",
    "| **Visualisation**     | Matplotlib, Seaborn | \n",
    "| **Apprentissage**     | Scikit-learn, TensorFlow  |\n",
    "| **Big Data**          | Apache Hadoop, Apache Spark    |\n",
    "| **Environnements**    | Jupyter Notebook, Google Colab |"
   ]
  },
  {
   "cell_type": "markdown",
   "metadata": {},
   "source": []
  },
  {
   "cell_type": "markdown",
   "metadata": {},
   "source": [
    "# Exemples d'Expressions Arithmétiques\n",
    "\n",
    "Voici quelques exemples d'expressions arithmétiques en Python :\n",
    "\n",
    "1. **Addition**  \n",
    "   L'addition de deux nombres :\n",
    "   ```python\n",
    "   5 + 3  # Résultat : 8\n",
    "\n",
    "2. **Soustraction**\n",
    "   La soustraction\n",
    "   ```python\n",
    "   5 - 3 # Résultat : 2\n",
    "\n",
    "3. **Multiplication**\n",
    "   ```python\n",
    "   5 * 3 # Résultat : 15\n",
    "\n",
    "4. **Division**\n",
    "   ```python\n",
    "   5 / 3 # resultat : 1.6666666666666667\n",
    "\n",
    "5. **Modulo**\n",
    "   ```python\n",
    "   5 % 3 # Résultat : 2"
   ]
  },
  {
   "cell_type": "markdown",
   "metadata": {},
   "source": []
  },
  {
   "cell_type": "code",
   "execution_count": null,
   "metadata": {},
   "outputs": [],
   "source": [
    "# Addition\n",
    "x, y = 5, 10\n",
    "result = x + y\n",
    "print(result)"
   ]
  },
  {
   "cell_type": "code",
   "execution_count": null,
   "metadata": {},
   "outputs": [],
   "source": []
  }
 ],
 "metadata": {
  "language_info": {
   "name": "python"
  }
 },
 "nbformat": 4,
 "nbformat_minor": 2
}
